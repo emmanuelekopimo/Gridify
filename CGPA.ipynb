{
  "nbformat": 4,
  "nbformat_minor": 0,
  "metadata": {
    "colab": {
      "provenance": [],
      "authorship_tag": "ABX9TyML4O8QI7TjwB4RfiY+H0ZE",
      "include_colab_link": true
    },
    "kernelspec": {
      "name": "python3",
      "display_name": "Python 3"
    },
    "language_info": {
      "name": "python"
    }
  },
  "cells": [
    {
      "cell_type": "markdown",
      "metadata": {
        "id": "view-in-github",
        "colab_type": "text"
      },
      "source": [
        "<a href=\"https://colab.research.google.com/github/emmanuelekopimo/Gridify/blob/main/CGPA.ipynb\" target=\"_parent\"><img src=\"https://colab.research.google.com/assets/colab-badge.svg\" alt=\"Open In Colab\"/></a>"
      ]
    },
    {
      "cell_type": "code",
      "execution_count": 6,
      "metadata": {
        "colab": {
          "base_uri": "https://localhost:8080/"
        },
        "id": "yYrv0gxi4K26",
        "outputId": "b0552f08-f690-4d5e-b7fc-95fef6be1a25"
      },
      "outputs": [
        {
          "output_type": "execute_result",
          "data": {
            "text/plain": [
              "4.0"
            ]
          },
          "metadata": {},
          "execution_count": 6
        }
      ],
      "source": [
        "# prompt: Code to calculate CGPA\n",
        "\n",
        "def calculate_cgpa(subjects, grades):\n",
        "  \"\"\"\n",
        "  Calculates the CGPA based on a list of subjects and grades.\n",
        "\n",
        "  Args:\n",
        "    subjects: A list of strings representing the subject names.\n",
        "    grades: A list of strings representing the grades obtained in each subject.\n",
        "\n",
        "  Returns:\n",
        "    A float representing the CGPA.\n",
        "  \"\"\"\n",
        "\n",
        "  # Validate inputs\n",
        "  if len(subjects) != len(grades):\n",
        "    raise ValueError(\"Number of subjects and grades must be the same.\")\n",
        "\n",
        "  # Create a dictionary to map grades to numerical values\n",
        "  grade_points = {\n",
        "    \"A+\": 4.0,\n",
        "    \"A\": 4.0,\n",
        "    \"A-\": 3.7,\n",
        "    \"B+\": 3.3,\n",
        "    \"B\": 3.0,\n",
        "    \"B-\": 2.7,\n",
        "    \"C+\": 2.3,\n",
        "    \"C\": 2.0,\n",
        "    \"C-\": 1.7,\n",
        "    \"D+\": 1.3,\n",
        "    \"D\": 1.0,\n",
        "    \"F\": 0.0,\n",
        "  }\n",
        "\n",
        "  # Calculate total credits and grade points\n",
        "  total_credits = 0\n",
        "  total_grade_points = 0\n",
        "  for subject, grade in zip(subjects, grades):\n",
        "    try:\n",
        "      credits = int(subject.split()[-1])\n",
        "    except ValueError:\n",
        "      credits = 1\n",
        "    total_credits += credits\n",
        "    total_grade_points += credits * grade_points[grade]\n",
        "\n",
        "  # Calculate CGPA\n",
        "  cgpa = total_grade_points / total_credits\n",
        "  return cgpa\n",
        "\n",
        "calculate_cgpa([\"Math\",\"Physics\",\"Biology\"],[\"A\",\"A\",\"A\"])\n"
      ]
    },
    {
      "cell_type": "markdown",
      "source": [],
      "metadata": {
        "id": "hOxKRMc05S85"
      }
    }
  ]
}